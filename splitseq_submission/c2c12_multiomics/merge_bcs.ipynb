{
 "cells": [
  {
   "cell_type": "code",
   "execution_count": 16,
   "id": "norman-trauma",
   "metadata": {},
   "outputs": [],
   "source": [
    "import pandas as pd"
   ]
  },
  {
   "cell_type": "code",
   "execution_count": 17,
   "id": "mineral-longitude",
   "metadata": {},
   "outputs": [
    {
     "name": "stdout",
     "output_type": "stream",
     "text": [
      "110\n"
     ]
    }
   ],
   "source": [
    "# sc MB\n",
    "sr_df = pd.read_csv('MB_cells_barcode_pass_list.txt', header=None, names=['bc'])\n",
    "lr_df = pd.read_csv('MB_cells_lr_barcode_pass_list.txt', header=None, names=['bc'])\n",
    "\n",
    "# merge bcs\n",
    "bc = sr_df.merge(lr_df, how='inner')\n",
    "print(len(bc.index))\n",
    "\n",
    "fname = 'MB_cells_lr_sr_barcode_pass_list.fasta'\n",
    "ofile = open(fname, 'w')\n",
    "i = 0\n",
    "for ind, entry in bc.iterrows():\n",
    "    ofile.write('>bc{}'.format(i))\n",
    "    ofile.write(entry.bc)\n",
    "    i += 1\n",
    "ofile.close()"
   ]
  },
  {
   "cell_type": "code",
   "execution_count": 18,
   "id": "tender-fisher",
   "metadata": {},
   "outputs": [
    {
     "name": "stdout",
     "output_type": "stream",
     "text": [
      "145\n"
     ]
    }
   ],
   "source": [
    "# sn MB\n",
    "sr_df = pd.read_csv('MB_nuclei_barcode_pass_list.txt', header=None, names=['bc'])\n",
    "lr_df = pd.read_csv('MB_nuclei_lr_barcode_pass_list.txt', header=None, names=['bc'])\n",
    "\n",
    "# merge bcs\n",
    "bc = sr_df.merge(lr_df, how='inner')\n",
    "print(len(bc.index))\n",
    "\n",
    "fname = 'MB_nuclei_lr_sr_barcode_pass_list.fasta'\n",
    "ofile = open(fname, 'w')\n",
    "i = 0\n",
    "for ind, entry in bc.iterrows():\n",
    "    ofile.write('>bc{}'.format(i))\n",
    "    ofile.write(entry.bc)\n",
    "    i += 1\n",
    "ofile.close()"
   ]
  },
  {
   "cell_type": "code",
   "execution_count": 19,
   "id": "occupied-index",
   "metadata": {},
   "outputs": [
    {
     "name": "stdout",
     "output_type": "stream",
     "text": [
      "209\n"
     ]
    }
   ],
   "source": [
    "# sn MT\n",
    "sr_df = pd.read_csv('MT_nuclei_barcode_pass_list.txt', header=None, names=['bc'])\n",
    "lr_df = pd.read_csv('MT_nuclei_lr_barcode_pass_list.txt', header=None, names=['bc'])\n",
    "\n",
    "# merge bcs\n",
    "bc = sr_df.merge(lr_df, how='inner')\n",
    "print(len(bc.index))\n",
    "\n",
    "fname = 'MT_nuclei_lr_sr_barcode_pass_list.fasta'\n",
    "ofile = open(fname, 'w')\n",
    "i = 0\n",
    "for ind, entry in bc.iterrows():\n",
    "    ofile.write('>bc{}'.format(i))\n",
    "    ofile.write(entry.bc)\n",
    "    i += 1\n",
    "ofile.close()"
   ]
  },
  {
   "cell_type": "code",
   "execution_count": 20,
   "id": "stunning-solid",
   "metadata": {},
   "outputs": [
    {
     "data": {
      "text/plain": [
       "464"
      ]
     },
     "execution_count": 20,
     "metadata": {},
     "output_type": "execute_result"
    }
   ],
   "source": [
    "209+145+110"
   ]
  },
  {
   "cell_type": "code",
   "execution_count": null,
   "id": "material-cruise",
   "metadata": {},
   "outputs": [],
   "source": []
  },
  {
   "cell_type": "code",
   "execution_count": null,
   "id": "vertical-sustainability",
   "metadata": {},
   "outputs": [],
   "source": []
  }
 ],
 "metadata": {
  "kernelspec": {
   "display_name": "Python 3",
   "language": "python",
   "name": "python3"
  },
  "language_info": {
   "codemirror_mode": {
    "name": "ipython",
    "version": 3
   },
   "file_extension": ".py",
   "mimetype": "text/x-python",
   "name": "python",
   "nbconvert_exporter": "python",
   "pygments_lexer": "ipython3",
   "version": "3.7.4"
  }
 },
 "nbformat": 4,
 "nbformat_minor": 5
}
