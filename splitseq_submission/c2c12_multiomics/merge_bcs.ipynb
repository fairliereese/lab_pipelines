{
 "cells": [
  {
   "cell_type": "code",
   "execution_count": 21,
   "id": "swiss-scheduling",
   "metadata": {},
   "outputs": [],
   "source": [
    "import pandas as pd"
   ]
  },
  {
   "cell_type": "code",
   "execution_count": 22,
   "id": "everyday-person",
   "metadata": {},
   "outputs": [
    {
     "name": "stdout",
     "output_type": "stream",
     "text": [
      "110\n"
     ]
    }
   ],
   "source": [
    "# sc MB\n",
    "sr_df = pd.read_csv('MB_cells_barcode_pass_list.txt', header=None, names=['bc'])\n",
    "lr_df = pd.read_csv('MB_cells_lr_barcode_pass_list.txt', header=None, names=['bc'])\n",
    "\n",
    "# merge bcs\n",
    "bc = sr_df.merge(lr_df, how='inner')\n",
    "print(len(bc.index))\n",
    "\n",
    "fname = 'MB_cells_lr_sr_barcode_pass_list.fasta'\n",
    "ofile = open(fname, 'w')\n",
    "i = 0\n",
    "for ind, entry in bc.iterrows():\n",
    "    ofile.write('>bc{}\\n'.format(i))\n",
    "    ofile.write(entry.bc+'\\n')\n",
    "    i += 1\n",
    "ofile.close()"
   ]
  },
  {
   "cell_type": "code",
   "execution_count": 23,
   "id": "yellow-spanking",
   "metadata": {},
   "outputs": [
    {
     "name": "stdout",
     "output_type": "stream",
     "text": [
      "145\n"
     ]
    }
   ],
   "source": [
    "# sn MB\n",
    "sr_df = pd.read_csv('MB_nuclei_barcode_pass_list.txt', header=None, names=['bc'])\n",
    "lr_df = pd.read_csv('MB_nuclei_lr_barcode_pass_list.txt', header=None, names=['bc'])\n",
    "\n",
    "# merge bcs\n",
    "bc = sr_df.merge(lr_df, how='inner')\n",
    "print(len(bc.index))\n",
    "\n",
    "fname = 'MB_nuclei_lr_sr_barcode_pass_list.fasta'\n",
    "ofile = open(fname, 'w')\n",
    "i = 0\n",
    "for ind, entry in bc.iterrows():\n",
    "    ofile.write('>bc{}\\n'.format(i))\n",
    "    ofile.write(entry.bc+'\\n')\n",
    "    i += 1\n",
    "ofile.close()"
   ]
  },
  {
   "cell_type": "code",
   "execution_count": 24,
   "id": "several-newport",
   "metadata": {},
   "outputs": [
    {
     "name": "stdout",
     "output_type": "stream",
     "text": [
      "209\n"
     ]
    }
   ],
   "source": [
    "# sn MT\n",
    "sr_df = pd.read_csv('MT_nuclei_barcode_pass_list.txt', header=None, names=['bc'])\n",
    "lr_df = pd.read_csv('MT_nuclei_lr_barcode_pass_list.txt', header=None, names=['bc'])\n",
    "\n",
    "# merge bcs\n",
    "bc = sr_df.merge(lr_df, how='inner')\n",
    "print(len(bc.index))\n",
    "\n",
    "fname = 'MT_nuclei_lr_sr_barcode_pass_list.fasta'\n",
    "ofile = open(fname, 'w')\n",
    "i = 0\n",
    "for ind, entry in bc.iterrows():\n",
    "    ofile.write('>bc{}\\n'.format(i))\n",
    "    ofile.write(entry.bc+'\\n')\n",
    "    i += 1\n",
    "ofile.close()"
   ]
  },
  {
   "cell_type": "code",
   "execution_count": 25,
   "id": "fatal-democrat",
   "metadata": {},
   "outputs": [
    {
     "data": {
      "text/plain": [
       "464"
      ]
     },
     "execution_count": 25,
     "metadata": {},
     "output_type": "execute_result"
    }
   ],
   "source": [
    "209+145+110"
   ]
  },
  {
   "cell_type": "code",
   "execution_count": null,
   "id": "alpha-massage",
   "metadata": {},
   "outputs": [],
   "source": []
  },
  {
   "cell_type": "code",
   "execution_count": null,
   "id": "nasty-crystal",
   "metadata": {},
   "outputs": [],
   "source": []
  }
 ],
 "metadata": {
  "kernelspec": {
   "display_name": "Python 3",
   "language": "python",
   "name": "python3"
  },
  "language_info": {
   "codemirror_mode": {
    "name": "ipython",
    "version": 3
   },
   "file_extension": ".py",
   "mimetype": "text/x-python",
   "name": "python",
   "nbconvert_exporter": "python",
   "pygments_lexer": "ipython3",
   "version": "3.7.4"
  }
 },
 "nbformat": 4,
 "nbformat_minor": 5
}
