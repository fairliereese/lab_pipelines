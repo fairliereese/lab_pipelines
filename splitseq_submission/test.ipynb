{
 "cells": [
  {
   "cell_type": "code",
   "execution_count": 71,
   "id": "southern-method",
   "metadata": {},
   "outputs": [],
   "source": [
    "import pandas as pd\n",
    "from argparse import ArgumentParser\n",
    "import os\n",
    "import glob"
   ]
  },
  {
   "cell_type": "code",
   "execution_count": 109,
   "id": "compatible-accountability",
   "metadata": {},
   "outputs": [],
   "source": [
    "tissue_df = pd.read_csv('tissue_metadata.tsv', sep='\\t')\n",
    "age_df = pd.read_csv('age_metadata.tsv', sep='\\t')\n",
    "sex_df = pd.read_csv('sex_metadata.tsv', sep='\\t')\n",
    "rep_df = pd.read_csv('rep_metadata.tsv', sep='\\t')\n",
    "\n",
    "\n",
    "tissue_df.set_index('short', inplace=True)\n",
    "age_df.set_index('short', inplace=True)\n",
    "sex_df.set_index('short', inplace=True)\n",
    "rep_df.set_index('short', inplace=True)\n",
    "\n",
    "\n",
    "lab = 'ali-mortazavi'\n",
    "award = 'UM1HG009443'"
   ]
  },
  {
   "cell_type": "code",
   "execution_count": 115,
   "id": "complete-isaac",
   "metadata": {},
   "outputs": [
    {
     "name": "stdout",
     "output_type": "stream",
     "text": [
      "test/*.fastq.gz\n",
      "test/A_18m_M_2.fastq.gz\n",
      "test/A_10_F_1.fastq.gz\n",
      "test/A_10_F_2.fastq.gz\n"
     ]
    }
   ],
   "source": [
    "d = 'test'+'/'\n",
    "ext = r'{}*.fastq.gz'.format(d)\n",
    "\n",
    "biosamp_sub = pd.DataFrame()\n",
    "exp_sub = pd.DataFrame() # only one for each pair of reps!\n",
    "lib_sub = pd.DataFrame()\n",
    "rep_sub = pd.DataFrame()\n",
    "file_sub = pd.DataFrame()\n",
    "\n",
    "\n",
    "print(ext)\n",
    "for f in glob.glob(ext):\n",
    "    print(f)\n",
    "    tissue, age, sex, rep = get_metadata(f)\n",
    "    biosamp_sub = add_biosamp(tissue, age, sex, rep, biosamp_sub,\n",
    "                             tissue_df, sex_df, age_df, rep_df)"
   ]
  },
  {
   "cell_type": "code",
   "execution_count": 118,
   "id": "protecting-domestic",
   "metadata": {},
   "outputs": [],
   "source": [
    "# drop unnecessary columns\n",
    "drop = ['tissue_desc', 'age_desc', 'rep_desc']\n",
    "biosamp_sub.drop(drop, axis=1, inplace=True)\n",
    "\n",
    "# for exp, also drop duplicate aliases \n",
    "exp_sub.drop_duplicates(inplace=True)"
   ]
  },
  {
   "cell_type": "code",
   "execution_count": 119,
   "id": "greatest-eight",
   "metadata": {},
   "outputs": [
    {
     "data": {
      "text/html": [
       "<div>\n",
       "<style scoped>\n",
       "    .dataframe tbody tr th:only-of-type {\n",
       "        vertical-align: middle;\n",
       "    }\n",
       "\n",
       "    .dataframe tbody tr th {\n",
       "        vertical-align: top;\n",
       "    }\n",
       "\n",
       "    .dataframe thead th {\n",
       "        text-align: right;\n",
       "    }\n",
       "</style>\n",
       "<table border=\"1\" class=\"dataframe\">\n",
       "  <thead>\n",
       "    <tr style=\"text-align: right;\">\n",
       "      <th></th>\n",
       "      <th>biosample_ontology</th>\n",
       "      <th>organism</th>\n",
       "      <th>subcellular_fraction_term_name</th>\n",
       "      <th>donor</th>\n",
       "      <th>source</th>\n",
       "      <th>sex</th>\n",
       "      <th>model_organism_age</th>\n",
       "      <th>model_organism_age_units</th>\n",
       "      <th>rep</th>\n",
       "      <th>description</th>\n",
       "      <th>aliases</th>\n",
       "    </tr>\n",
       "  </thead>\n",
       "  <tbody>\n",
       "    <tr>\n",
       "      <th>0</th>\n",
       "      <td>/biosample-types/tissue_UBERON_0002369/</td>\n",
       "      <td>/organisms/mouse/</td>\n",
       "      <td>nucleus</td>\n",
       "      <td>encode:Castaneus</td>\n",
       "      <td>/sources/jackson-labs/</td>\n",
       "      <td>male</td>\n",
       "      <td>18-20</td>\n",
       "      <td>month</td>\n",
       "      <td>2</td>\n",
       "      <td>B6Cast F1 P18-20mo male adrenal 8</td>\n",
       "      <td>ali-mortazavi:biosample_P18-20mo_male_adrenal_2</td>\n",
       "    </tr>\n",
       "    <tr>\n",
       "      <th>0</th>\n",
       "      <td>/biosample-types/tissue_UBERON_0002369/</td>\n",
       "      <td>/organisms/mouse/</td>\n",
       "      <td>nucleus</td>\n",
       "      <td>encode:Castaneus</td>\n",
       "      <td>/sources/jackson-labs/</td>\n",
       "      <td>female</td>\n",
       "      <td>10</td>\n",
       "      <td>day</td>\n",
       "      <td>1</td>\n",
       "      <td>B6Cast F1 P10 female adrenal 7</td>\n",
       "      <td>ali-mortazavi:biosample_P10_female_adrenal_1</td>\n",
       "    </tr>\n",
       "    <tr>\n",
       "      <th>0</th>\n",
       "      <td>/biosample-types/tissue_UBERON_0002369/</td>\n",
       "      <td>/organisms/mouse/</td>\n",
       "      <td>nucleus</td>\n",
       "      <td>encode:Castaneus</td>\n",
       "      <td>/sources/jackson-labs/</td>\n",
       "      <td>female</td>\n",
       "      <td>10</td>\n",
       "      <td>day</td>\n",
       "      <td>2</td>\n",
       "      <td>B6Cast F1 P10 female adrenal 8</td>\n",
       "      <td>ali-mortazavi:biosample_P10_female_adrenal_2</td>\n",
       "    </tr>\n",
       "  </tbody>\n",
       "</table>\n",
       "</div>"
      ],
      "text/plain": [
       "                        biosample_ontology           organism  \\\n",
       "0  /biosample-types/tissue_UBERON_0002369/  /organisms/mouse/   \n",
       "0  /biosample-types/tissue_UBERON_0002369/  /organisms/mouse/   \n",
       "0  /biosample-types/tissue_UBERON_0002369/  /organisms/mouse/   \n",
       "\n",
       "  subcellular_fraction_term_name             donor                  source  \\\n",
       "0                        nucleus  encode:Castaneus  /sources/jackson-labs/   \n",
       "0                        nucleus  encode:Castaneus  /sources/jackson-labs/   \n",
       "0                        nucleus  encode:Castaneus  /sources/jackson-labs/   \n",
       "\n",
       "      sex model_organism_age model_organism_age_units rep  \\\n",
       "0    male              18-20                    month   2   \n",
       "0  female                 10                      day   1   \n",
       "0  female                 10                      day   2   \n",
       "\n",
       "                         description  \\\n",
       "0  B6Cast F1 P18-20mo male adrenal 8   \n",
       "0     B6Cast F1 P10 female adrenal 7   \n",
       "0     B6Cast F1 P10 female adrenal 8   \n",
       "\n",
       "                                           aliases  \n",
       "0  ali-mortazavi:biosample_P18-20mo_male_adrenal_2  \n",
       "0     ali-mortazavi:biosample_P10_female_adrenal_1  \n",
       "0     ali-mortazavi:biosample_P10_female_adrenal_2  "
      ]
     },
     "execution_count": 119,
     "metadata": {},
     "output_type": "execute_result"
    }
   ],
   "source": [
    "biosamp_sub"
   ]
  },
  {
   "cell_type": "code",
   "execution_count": 92,
   "id": "polished-domestic",
   "metadata": {},
   "outputs": [],
   "source": [
    "def get_metadata(f):\n",
    "    tissue, age, sex, rep = f.split('_')\n",
    "    rep = rep.split('.')[0]\n",
    "    tissue = tissue.split('/')[-1]\n",
    "    return tissue, age, sex, rep"
   ]
  },
  {
   "cell_type": "code",
   "execution_count": null,
   "id": "through-pregnancy",
   "metadata": {},
   "outputs": [],
   "source": [
    "def add_exp(tissue, age, sex, rep, exp_sub,\n",
    "                tissue_df, sex_df, age_df, rep_df):\n",
    "    temp = tissue_df.loc[tissue]\n",
    "    temp = pd.concat([temp, sex_df.loc[sex]], axis=0).to_frame()\n",
    "    temp = pd.concat([temp, age_df.loc[age]], axis=0)\n",
    "    temp = temp.transpose()\n",
    "    \n",
    "    desc = 'Short-read Split-seq B6Cast F1 {} {} {}'.format(temp.age_desc.values[0], temp.sex.values[0], \n",
    "                                          temp.tissue_desc.values[0])\n",
    "    alias = 'ali-mortazavi:exp_{}_{}_{}'.format(temp.age_desc.values[0], temp.sex.values[0],\n",
    "                                                         temp.tissue_desc.values[0])\n",
    "\n",
    "    temp['assay_term_name'] = 'single-cell RNA sequencing assay'\n",
    "    temp['description'] = desc\n",
    "    temp['aliases'] = alias\n",
    "    temp['lab'] = 'ali-mortazavi'\n",
    "    temp['award'] = 'UM1HG009443'\n",
    "    \n",
    "    # retain only necessary columns\n",
    "    cols = ['aliases', 'biosample_ontology', 'description', \n",
    "            ]\n",
    "    temp = temp[[]]\n",
    "    \n",
    "    "
   ]
  },
  {
   "cell_type": "code",
   "execution_count": 107,
   "id": "recovered-award",
   "metadata": {},
   "outputs": [],
   "source": [
    "def add_biosamp(tissue, age, sex, rep, biosamp_sub,\n",
    "                tissue_df, sex_df, age_df, rep_df):\n",
    "    temp = tissue_df.loc[tissue]\n",
    "    temp = pd.concat([temp, sex_df.loc[sex]], axis=0).to_frame()\n",
    "    temp = pd.concat([temp, age_df.loc[age]], axis=0)\n",
    "    temp = pd.concat([temp, rep_df.loc[int(rep)]], axis=0)\n",
    "\n",
    "    temp = temp.transpose()\n",
    "\n",
    "    desc = 'B6Cast F1 {} {} {} {}'.format(temp.age_desc.values[0], temp.sex.values[0], \n",
    "                                          temp.tissue_desc.values[0], temp.rep_desc.values[0])\n",
    "    alias = 'ali-mortazavi:biosample_{}_{}_{}_{}'.format(temp.age_desc.values[0], temp.sex.values[0],\n",
    "                                                         temp.tissue_desc.values[0], temp.rep.values[0])\n",
    "\n",
    "    temp['description'] = desc\n",
    "    temp['aliases'] = alias\n",
    "    temp['lab'] = 'ali-mortazavi'\n",
    "    temp['award'] = 'UM1HG009443'\n",
    "\n",
    "    biosamp_sub = pd.concat([biosamp_sub, temp], axis=0)\n",
    "    return biosamp_sub"
   ]
  },
  {
   "cell_type": "code",
   "execution_count": 94,
   "id": "wired-morris",
   "metadata": {},
   "outputs": [
    {
     "data": {
      "text/plain": [
       "'test/A_10_F_2.fastq.gz'"
      ]
     },
     "execution_count": 94,
     "metadata": {},
     "output_type": "execute_result"
    }
   ],
   "source": [
    "f"
   ]
  },
  {
   "cell_type": "code",
   "execution_count": 95,
   "id": "surprised-brand",
   "metadata": {},
   "outputs": [],
   "source": [
    "tissue, age, sex, rep = get_metadata(f)"
   ]
  },
  {
   "cell_type": "code",
   "execution_count": 96,
   "id": "competent-pleasure",
   "metadata": {},
   "outputs": [
    {
     "name": "stdout",
     "output_type": "stream",
     "text": [
      "A\n",
      "10\n",
      "F\n",
      "2\n"
     ]
    }
   ],
   "source": [
    "print(tissue)\n",
    "print(age)\n",
    "print(sex)\n",
    "print(rep)"
   ]
  },
  {
   "cell_type": "code",
   "execution_count": 97,
   "id": "brief-capability",
   "metadata": {},
   "outputs": [
    {
     "data": {
      "text/html": [
       "<div>\n",
       "<style scoped>\n",
       "    .dataframe tbody tr th:only-of-type {\n",
       "        vertical-align: middle;\n",
       "    }\n",
       "\n",
       "    .dataframe tbody tr th {\n",
       "        vertical-align: top;\n",
       "    }\n",
       "\n",
       "    .dataframe thead th {\n",
       "        text-align: right;\n",
       "    }\n",
       "</style>\n",
       "<table border=\"1\" class=\"dataframe\">\n",
       "  <thead>\n",
       "    <tr style=\"text-align: right;\">\n",
       "      <th></th>\n",
       "      <th>tissue_desc</th>\n",
       "      <th>biosample_ontology</th>\n",
       "      <th>organism</th>\n",
       "      <th>subcellular_fraction_term_name</th>\n",
       "      <th>donor</th>\n",
       "      <th>source</th>\n",
       "    </tr>\n",
       "    <tr>\n",
       "      <th>short</th>\n",
       "      <th></th>\n",
       "      <th></th>\n",
       "      <th></th>\n",
       "      <th></th>\n",
       "      <th></th>\n",
       "      <th></th>\n",
       "    </tr>\n",
       "  </thead>\n",
       "  <tbody>\n",
       "    <tr>\n",
       "      <th>A</th>\n",
       "      <td>adrenal</td>\n",
       "      <td>/biosample-types/tissue_UBERON_0002369/</td>\n",
       "      <td>/organisms/mouse/</td>\n",
       "      <td>nucleus</td>\n",
       "      <td>encode:Castaneus</td>\n",
       "      <td>/sources/jackson-labs/</td>\n",
       "    </tr>\n",
       "    <tr>\n",
       "      <th>G</th>\n",
       "      <td>gastrocnemius</td>\n",
       "      <td>/biosample-types/tissue_UBERON_0001388/</td>\n",
       "      <td>/organisms/mouse/</td>\n",
       "      <td>nucleus</td>\n",
       "      <td>encode:Castaneus</td>\n",
       "      <td>/sources/jackson-labs/</td>\n",
       "    </tr>\n",
       "    <tr>\n",
       "      <th>C</th>\n",
       "      <td>cortex</td>\n",
       "      <td>/biosample-types/tissue_NTR_0000646/</td>\n",
       "      <td>/organisms/mouse/</td>\n",
       "      <td>nucleus</td>\n",
       "      <td>encode:Castaneus</td>\n",
       "      <td>/sources/jackson-labs/</td>\n",
       "    </tr>\n",
       "    <tr>\n",
       "      <th>H</th>\n",
       "      <td>hippocampus</td>\n",
       "      <td>/biosample-types/tissue_UBERON_0002305/</td>\n",
       "      <td>/organisms/mouse/</td>\n",
       "      <td>nucleus</td>\n",
       "      <td>encode:Castaneus</td>\n",
       "      <td>/sources/jackson-labs/</td>\n",
       "    </tr>\n",
       "  </tbody>\n",
       "</table>\n",
       "</div>"
      ],
      "text/plain": [
       "         tissue_desc                       biosample_ontology  \\\n",
       "short                                                           \n",
       "A            adrenal  /biosample-types/tissue_UBERON_0002369/   \n",
       "G      gastrocnemius  /biosample-types/tissue_UBERON_0001388/   \n",
       "C             cortex     /biosample-types/tissue_NTR_0000646/   \n",
       "H        hippocampus  /biosample-types/tissue_UBERON_0002305/   \n",
       "\n",
       "                organism subcellular_fraction_term_name             donor  \\\n",
       "short                                                                       \n",
       "A      /organisms/mouse/                        nucleus  encode:Castaneus   \n",
       "G      /organisms/mouse/                        nucleus  encode:Castaneus   \n",
       "C      /organisms/mouse/                        nucleus  encode:Castaneus   \n",
       "H      /organisms/mouse/                        nucleus  encode:Castaneus   \n",
       "\n",
       "                       source  \n",
       "short                          \n",
       "A      /sources/jackson-labs/  \n",
       "G      /sources/jackson-labs/  \n",
       "C      /sources/jackson-labs/  \n",
       "H      /sources/jackson-labs/  "
      ]
     },
     "execution_count": 97,
     "metadata": {},
     "output_type": "execute_result"
    }
   ],
   "source": [
    "tissue_df.head()"
   ]
  },
  {
   "cell_type": "code",
   "execution_count": 103,
   "id": "sound-joseph",
   "metadata": {},
   "outputs": [],
   "source": [
    "temp = tissue_df.loc[tissue]\n",
    "temp = pd.concat([temp, sex_df.loc[sex]], axis=0).to_frame()\n",
    "temp = pd.concat([temp, age_df.loc[age]], axis=0)\n",
    "temp = pd.concat([temp, rep_df.loc[int(rep)]], axis=0)\n",
    "\n",
    "temp = temp.transpose()\n",
    "\n",
    "desc = 'B6Cast F1 {} {} {} {}'.format(temp.age_desc.values[0], temp.sex.values[0], \n",
    "                                      temp.tissue_desc.values[0], temp.rep_desc.values[0])\n",
    "alias = 'ali-mortazavi:biosample_{}_{}_{}_{}'.format(temp.age_desc.values[0], temp.sex.values[0],\n",
    "                                                     temp.tissue_desc.values[0], temp.rep.values[0])\n",
    "\n",
    "temp['description'] = desc\n",
    "temp['aliases'] = alias"
   ]
  },
  {
   "cell_type": "code",
   "execution_count": 104,
   "id": "toxic-setup",
   "metadata": {},
   "outputs": [
    {
     "data": {
      "text/html": [
       "<div>\n",
       "<style scoped>\n",
       "    .dataframe tbody tr th:only-of-type {\n",
       "        vertical-align: middle;\n",
       "    }\n",
       "\n",
       "    .dataframe tbody tr th {\n",
       "        vertical-align: top;\n",
       "    }\n",
       "\n",
       "    .dataframe thead th {\n",
       "        text-align: right;\n",
       "    }\n",
       "</style>\n",
       "<table border=\"1\" class=\"dataframe\">\n",
       "  <thead>\n",
       "    <tr style=\"text-align: right;\">\n",
       "      <th></th>\n",
       "      <th>tissue_desc</th>\n",
       "      <th>biosample_ontology</th>\n",
       "      <th>organism</th>\n",
       "      <th>subcellular_fraction_term_name</th>\n",
       "      <th>donor</th>\n",
       "      <th>source</th>\n",
       "      <th>sex</th>\n",
       "      <th>model_organism_age</th>\n",
       "      <th>model_organism_age_units</th>\n",
       "      <th>age_desc</th>\n",
       "      <th>rep_desc</th>\n",
       "      <th>rep</th>\n",
       "      <th>description</th>\n",
       "      <th>aliases</th>\n",
       "    </tr>\n",
       "  </thead>\n",
       "  <tbody>\n",
       "    <tr>\n",
       "      <th>0</th>\n",
       "      <td>adrenal</td>\n",
       "      <td>/biosample-types/tissue_UBERON_0002369/</td>\n",
       "      <td>/organisms/mouse/</td>\n",
       "      <td>nucleus</td>\n",
       "      <td>encode:Castaneus</td>\n",
       "      <td>/sources/jackson-labs/</td>\n",
       "      <td>female</td>\n",
       "      <td>10</td>\n",
       "      <td>day</td>\n",
       "      <td>P10</td>\n",
       "      <td>8</td>\n",
       "      <td>2</td>\n",
       "      <td>B6Cast F1 P10 female adrenal 8</td>\n",
       "      <td>ali-mortazavi:biosample_P10_female_adrenal_2</td>\n",
       "    </tr>\n",
       "  </tbody>\n",
       "</table>\n",
       "</div>"
      ],
      "text/plain": [
       "  tissue_desc                       biosample_ontology           organism  \\\n",
       "0     adrenal  /biosample-types/tissue_UBERON_0002369/  /organisms/mouse/   \n",
       "\n",
       "  subcellular_fraction_term_name             donor                  source  \\\n",
       "0                        nucleus  encode:Castaneus  /sources/jackson-labs/   \n",
       "\n",
       "      sex model_organism_age model_organism_age_units age_desc rep_desc rep  \\\n",
       "0  female                 10                      day      P10        8   2   \n",
       "\n",
       "                      description  \\\n",
       "0  B6Cast F1 P10 female adrenal 8   \n",
       "\n",
       "                                        aliases  \n",
       "0  ali-mortazavi:biosample_P10_female_adrenal_2  "
      ]
     },
     "execution_count": 104,
     "metadata": {},
     "output_type": "execute_result"
    }
   ],
   "source": [
    "temp"
   ]
  },
  {
   "cell_type": "code",
   "execution_count": null,
   "id": "immune-bunny",
   "metadata": {},
   "outputs": [],
   "source": []
  },
  {
   "cell_type": "code",
   "execution_count": null,
   "id": "flying-practice",
   "metadata": {},
   "outputs": [],
   "source": []
  }
 ],
 "metadata": {
  "kernelspec": {
   "display_name": "Python 3",
   "language": "python",
   "name": "python3"
  },
  "language_info": {
   "codemirror_mode": {
    "name": "ipython",
    "version": 3
   },
   "file_extension": ".py",
   "mimetype": "text/x-python",
   "name": "python",
   "nbconvert_exporter": "python",
   "pygments_lexer": "ipython3",
   "version": "3.7.4"
  }
 },
 "nbformat": 4,
 "nbformat_minor": 5
}
